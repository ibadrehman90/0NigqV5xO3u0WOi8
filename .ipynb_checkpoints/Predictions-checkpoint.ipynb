{
 "cells": [
  {
   "cell_type": "code",
   "execution_count": 32,
   "id": "104e2bd5",
   "metadata": {},
   "outputs": [],
   "source": [
    "import pandas as pd\n",
    "from sklearn.model_selection import train_test_split\n",
    "from sklearn.metrics import accuracy_score, classification_report, confusion_matrix\n",
    "from sklearn.ensemble import RandomForestClassifier\n",
    "from sklearn.tree import DecisionTreeClassifier\n",
    "from sklearn.model_selection import KFold, cross_val_score, GridSearchCV\n",
    "import numpy as np\n",
    "from sklearn import tree\n",
    "from sklearn.feature_selection import SelectKBest\n",
    "from sklearn.feature_selection import f_classif\n",
    "from numpy import set_printoptions"
   ]
  },
  {
   "cell_type": "code",
   "execution_count": 6,
   "id": "40e394a2",
   "metadata": {},
   "outputs": [
    {
     "data": {
      "text/html": [
       "<div>\n",
       "<style scoped>\n",
       "    .dataframe tbody tr th:only-of-type {\n",
       "        vertical-align: middle;\n",
       "    }\n",
       "\n",
       "    .dataframe tbody tr th {\n",
       "        vertical-align: top;\n",
       "    }\n",
       "\n",
       "    .dataframe thead th {\n",
       "        text-align: right;\n",
       "    }\n",
       "</style>\n",
       "<table border=\"1\" class=\"dataframe\">\n",
       "  <thead>\n",
       "    <tr style=\"text-align: right;\">\n",
       "      <th></th>\n",
       "      <th>Y</th>\n",
       "      <th>X1</th>\n",
       "      <th>X2</th>\n",
       "      <th>X3</th>\n",
       "      <th>X4</th>\n",
       "      <th>X5</th>\n",
       "      <th>X6</th>\n",
       "    </tr>\n",
       "  </thead>\n",
       "  <tbody>\n",
       "    <tr>\n",
       "      <th>0</th>\n",
       "      <td>0</td>\n",
       "      <td>3</td>\n",
       "      <td>3</td>\n",
       "      <td>3</td>\n",
       "      <td>4</td>\n",
       "      <td>2</td>\n",
       "      <td>4</td>\n",
       "    </tr>\n",
       "    <tr>\n",
       "      <th>1</th>\n",
       "      <td>0</td>\n",
       "      <td>3</td>\n",
       "      <td>2</td>\n",
       "      <td>3</td>\n",
       "      <td>5</td>\n",
       "      <td>4</td>\n",
       "      <td>3</td>\n",
       "    </tr>\n",
       "    <tr>\n",
       "      <th>2</th>\n",
       "      <td>1</td>\n",
       "      <td>5</td>\n",
       "      <td>3</td>\n",
       "      <td>3</td>\n",
       "      <td>3</td>\n",
       "      <td>3</td>\n",
       "      <td>5</td>\n",
       "    </tr>\n",
       "    <tr>\n",
       "      <th>3</th>\n",
       "      <td>0</td>\n",
       "      <td>5</td>\n",
       "      <td>4</td>\n",
       "      <td>3</td>\n",
       "      <td>3</td>\n",
       "      <td>3</td>\n",
       "      <td>5</td>\n",
       "    </tr>\n",
       "    <tr>\n",
       "      <th>4</th>\n",
       "      <td>0</td>\n",
       "      <td>5</td>\n",
       "      <td>4</td>\n",
       "      <td>3</td>\n",
       "      <td>3</td>\n",
       "      <td>3</td>\n",
       "      <td>5</td>\n",
       "    </tr>\n",
       "  </tbody>\n",
       "</table>\n",
       "</div>"
      ],
      "text/plain": [
       "   Y  X1  X2  X3  X4  X5  X6\n",
       "0  0   3   3   3   4   2   4\n",
       "1  0   3   2   3   5   4   3\n",
       "2  1   5   3   3   3   3   5\n",
       "3  0   5   4   3   3   3   5\n",
       "4  0   5   4   3   3   3   5"
      ]
     },
     "execution_count": 6,
     "metadata": {},
     "output_type": "execute_result"
    }
   ],
   "source": [
    "df = pd.read_csv(\"data.csv\")\n",
    "df.head()"
   ]
  },
  {
   "cell_type": "code",
   "execution_count": 7,
   "id": "0583da2f",
   "metadata": {},
   "outputs": [],
   "source": [
    "X = df.drop('Y', axis=1)\n",
    "y = df['Y']"
   ]
  },
  {
   "cell_type": "code",
   "execution_count": 8,
   "id": "d1cdc056",
   "metadata": {},
   "outputs": [],
   "source": [
    "X_train, X_test, y_train, y_test = train_test_split(X, y, test_size=0.20, random_state=66)"
   ]
  },
  {
   "cell_type": "code",
   "execution_count": 27,
   "id": "fa94edda",
   "metadata": {},
   "outputs": [
    {
     "name": "stdout",
     "output_type": "stream",
     "text": [
      "Parameters: {'max_depth': 4, 'min_samples_leaf': 10, 'min_samples_split': 2}\n",
      "Score: 0.6000000000000001\n"
     ]
    }
   ],
   "source": [
    "dt_tree = tree.DecisionTreeClassifier(criterion = 'entropy',random_state=1234)\n",
    "param_grid = {'max_depth': np.arange(2,11),'min_samples_split': np.arange(2,11),'min_samples_leaf': np.arange(2,11)}\n",
    "tree_gridcv = GridSearchCV(dt_tree,param_grid,cv=10 ,n_jobs=-1)\n",
    "tree_gridcv.fit(X_train,y_train)\n",
    "\n",
    "print(\"Parameters: \" + str(tree_gridcv.best_params_))\n",
    "print(\"Score: \" + str(tree_gridcv.best_score_))"
   ]
  },
  {
   "cell_type": "code",
   "execution_count": 29,
   "id": "6011e65e",
   "metadata": {},
   "outputs": [
    {
     "name": "stdout",
     "output_type": "stream",
     "text": [
      "Average accuracy: 0.6000000000000001\n",
      "[[8 4]\n",
      " [8 6]]\n",
      "              precision    recall  f1-score   support\n",
      "\n",
      "           0       0.50      0.67      0.57        12\n",
      "           1       0.60      0.43      0.50        14\n",
      "\n",
      "    accuracy                           0.54        26\n",
      "   macro avg       0.55      0.55      0.54        26\n",
      "weighted avg       0.55      0.54      0.53        26\n",
      "\n"
     ]
    }
   ],
   "source": [
    "#Performing cross validation\n",
    "dt_tree_prunned = tree.DecisionTreeClassifier(criterion = 'entropy',random_state=1234,\n",
    "                                               max_depth= tree_gridcv.best_params_['max_depth'],\n",
    "                                               min_samples_leaf= tree_gridcv.best_params_['min_samples_leaf'],\n",
    "                                               min_samples_split=tree_gridcv.best_params_['min_samples_split'] )\n",
    "\n",
    "#Using cross validation in the whole data set with the parameters from gridsearch\n",
    "score_tree = cross_val_score(dt_tree_prunned,X_train,y_train,cv=10,n_jobs=-1)\n",
    "print('Average accuracy:', np.mean(score_tree))\n",
    "\n",
    "#Now lets compute the confussion matrix by splitting the data into trainning and testing\n",
    "dt_tree_prunned.fit(X_train,y_train)\n",
    "tree_pred = dt_tree_prunned.predict(X_test)\n",
    "print(confusion_matrix(y_test, tree_pred))\n",
    "print(classification_report(y_test, tree_pred))"
   ]
  },
  {
   "cell_type": "code",
   "execution_count": 16,
   "id": "29d3c27c",
   "metadata": {},
   "outputs": [
    {
     "name": "stdout",
     "output_type": "stream",
     "text": [
      "Parameters: {'max_depth': 4, 'n_estimators': 300}\n",
      "Score: 0.5900000000000001\n"
     ]
    }
   ],
   "source": [
    "rf = RandomForestClassifier(criterion='entropy',random_state=1234)\n",
    "param_grid = {'n_estimators':[100,250,300,450],'max_depth': np.arange(4,20)}\n",
    "#'max_depth': np.arange(4,19),'min_samples_split': np.arange(4,19),'min_samples_leaf': np.arange(4,25)}\n",
    "\n",
    "rf = GridSearchCV(rf, param_grid,cv=10,n_jobs=-1)\n",
    "rf.fit(X_train,y_train)\n",
    "\n",
    "print(\"Parameters: \"+ str(rf.best_params_))\n",
    "print(\"Score: \" + str(rf.best_score_))"
   ]
  },
  {
   "cell_type": "code",
   "execution_count": 17,
   "id": "094a61cd",
   "metadata": {},
   "outputs": [
    {
     "name": "stdout",
     "output_type": "stream",
     "text": [
      "Average accuracy: 0.5900000000000001\n",
      "0.18138357147217055\n",
      "[[ 4  8]\n",
      " [ 1 13]]\n",
      "              precision    recall  f1-score   support\n",
      "\n",
      "           0       0.80      0.33      0.47        12\n",
      "           1       0.62      0.93      0.74        14\n",
      "\n",
      "    accuracy                           0.65        26\n",
      "   macro avg       0.71      0.63      0.61        26\n",
      "weighted avg       0.70      0.65      0.62        26\n",
      "\n"
     ]
    }
   ],
   "source": [
    "#Performing cross validation\n",
    "rf_model = rf = RandomForestClassifier(criterion='entropy',n_estimators= rf.best_params_['n_estimators'],\n",
    "                                      max_depth=rf.best_params_['max_depth'],random_state=1234)\n",
    "\n",
    "\n",
    "#Using cross validation in the whole data set with the parameters from gridsearch\n",
    "score_rf = cross_val_score(rf_model,X_train,y_train,cv=10,n_jobs=-1)\n",
    "print('Average accuracy:', np.mean(score_rf))\n",
    "print(score_rf.std())\n",
    "#Now lets compute the confussion matrix by splitting the data into trainning and testing\n",
    "rf_model.fit(X_train,y_train)\n",
    "rf_pred = rf_model.predict(X_test)\n",
    "print(confusion_matrix(y_test, rf_pred))\n",
    "print(classification_report(y_test, rf_pred))"
   ]
  },
  {
   "cell_type": "code",
   "execution_count": 33,
   "id": "c97d486e",
   "metadata": {},
   "outputs": [
    {
     "name": "stdout",
     "output_type": "stream",
     "text": [
      "[10.562  0.073  2.887  0.517  6.583  3.587]\n",
      "[[3 3 2 4]\n",
      " [3 3 4 3]\n",
      " [5 3 3 5]\n",
      " [5 3 3 5]\n",
      " [5 3 3 5]]\n"
     ]
    }
   ],
   "source": [
    "# feature extraction\n",
    "test = SelectKBest(score_func=f_classif, k=4)\n",
    "fit = test.fit(X, y)\n",
    "# summarize scores\n",
    "set_printoptions(precision=3)\n",
    "print(fit.scores_)\n",
    "features = fit.transform(X)\n",
    "# summarize selected features\n",
    "print(features[0:5,:])"
   ]
  },
  {
   "cell_type": "markdown",
   "id": "7eed9636",
   "metadata": {},
   "source": [
    "Top 3 features for predicting the output are X1, X5, and X6"
   ]
  }
 ],
 "metadata": {
  "kernelspec": {
   "display_name": "tf",
   "language": "python",
   "name": "tf"
  },
  "language_info": {
   "codemirror_mode": {
    "name": "ipython",
    "version": 3
   },
   "file_extension": ".py",
   "mimetype": "text/x-python",
   "name": "python",
   "nbconvert_exporter": "python",
   "pygments_lexer": "ipython3",
   "version": "3.9.7"
  }
 },
 "nbformat": 4,
 "nbformat_minor": 5
}
